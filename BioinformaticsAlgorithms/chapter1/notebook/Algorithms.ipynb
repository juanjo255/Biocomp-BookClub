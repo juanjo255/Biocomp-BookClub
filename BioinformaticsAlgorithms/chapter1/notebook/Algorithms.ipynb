{
  "cells": [
    {
      "cell_type": "markdown",
      "metadata": {
        "id": "SS2ym369_W6J"
      },
      "source": [
        "# Initial stuff"
      ]
    },
    {
      "cell_type": "code",
      "execution_count": null,
      "metadata": {
        "id": "9_mSza8K5EDZ"
      },
      "outputs": [],
      "source": [
        "def pattern_count(pattern, seq):\n",
        "    patt_count=0\n",
        "    patt_size=len(pattern)\n",
        "    for i in range(len(seq) + 1  - patt_size):\n",
        "        if seq[i:i+patt_size] == pattern:\n",
        "            patt_count += 1\n",
        "    return patt_count\n"
      ]
    },
    {
      "cell_type": "code",
      "execution_count": null,
      "metadata": {
        "id": "Eugd8k_c6X4S"
      },
      "outputs": [],
      "source": [
        "def reverso(text):\n",
        "    reverso=\"\"\n",
        "    for caracter in text:\n",
        "        if caracter == \"A\":\n",
        "            reverso.append(\"T\")\n",
        "        if caracter == \"T\":\n",
        "            reverso.append(\"A\")\n",
        "        if caracter == \"C\":\n",
        "            reverso.append(\"G\")\n",
        "        if caracter == \"G\":\n",
        "            reverso.append(\"C\")\n",
        "    return reverso[::-1]\n",
        "\n",
        "def FrequentPattern(texto,k_mer):\n",
        "    frequentPat = []\n",
        "    conteo = []\n",
        "\n",
        "    for i in range(len(texto)+1-k_mer):\n",
        "        patron = texto[i:i+k_mer]\n",
        "        conteo.append(pattern_count(patron,texto))\n",
        "    #    print(patron,conteo)\n",
        "    # max = conteo.max()\n",
        "    max_val = max(conteo)\n",
        "    for i in range(len(texto)+1-k_mer):\n",
        "    #    print(texto[i:i+k_mer], conteo[i])\n",
        "        if conteo[i] == max_val:\n",
        "            frequentPat.append(texto[i:i+k_mer])\n",
        "    #print(frequentPat)\n",
        "    # Remove duplicates\n",
        "    frequentPat = list(set(frequentPat))\n",
        "\n",
        "    return frequentPat\n"
      ]
    },
    {
      "cell_type": "markdown",
      "metadata": {
        "id": "Tduwuyx9_PYs"
      },
      "source": [
        "# Problem 1E"
      ]
    },
    {
      "cell_type": "code",
      "execution_count": null,
      "metadata": {
        "id": "2CVzgQlK_SuP"
      },
      "outputs": [],
      "source": [
        "def clump_finding_algorithm(k,L,t,genome):\n",
        "    patron_guardado=[]\n",
        "    for i in range(0,len(genome)+1-L):\n",
        "        ventana = genome[i:i+L]\n",
        "        for x in range(0,len(ventana)+1-k):\n",
        "            patron = ventana[x:x+k]\n",
        "            conteo_patron_en_ventana = pattern_count(patron, ventana)\n",
        "            if conteo_patron_en_ventana >= t:\n",
        "                # Guardo el patron\n",
        "                patron_guardado.append(patron)\n",
        "    # Eliminar duplicados\n",
        "    patron_guardado = list(set(patron_guardado))\n",
        "    return patron_guardado\n"
      ]
    },
    {
      "cell_type": "code",
      "execution_count": null,
      "metadata": {
        "colab": {
          "base_uri": "https://localhost:8080/"
        },
        "id": "nT5aNPs6JIIq",
        "outputId": "f1856986-f908-4d5b-bdd5-964e4f8e0f58"
      },
      "outputs": [
        {
          "data": {
            "text/plain": [
              "['CGACA', 'AATGT', 'GAAGA']"
            ]
          },
          "execution_count": 30,
          "metadata": {},
          "output_type": "execute_result"
        }
      ],
      "source": [
        "genome = \"CGGACTCGACAGATGTGAAGAAATGTGAAGACTGAGTGAAGAGAAGAGGAAACACGACACGACATTGCGACATAATGTACGAATGTAATGTGCCTATGGC\"\n",
        "k=5\n",
        "L=75\n",
        "t=4\n",
        "clump_finding_algorithm(5,75,4,genome)\n"
      ]
    },
    {
      "cell_type": "code",
      "execution_count": null,
      "metadata": {
        "colab": {
          "base_uri": "https://localhost:8080/"
        },
        "id": "Ot9-1b8oBDeZ",
        "outputId": "ccc4bde1-618e-4df7-f13e-2c11eeb078cb"
      },
      "outputs": [
        {
          "name": "stdout",
          "output_type": "stream",
          "text": [
            "[1, 'felipe', 'paula'] 1 felipe paula\n"
          ]
        }
      ],
      "source": [
        "test = [1,\"felipe\",\"paula\"]\n",
        "\n",
        "print(test,*test)"
      ]
    },
    {
      "cell_type": "markdown",
      "metadata": {},
      "source": [
        "# Skew diagram problem"
      ]
    },
    {
      "cell_type": "code",
      "execution_count": null,
      "metadata": {},
      "outputs": [],
      "source": [
        "def skew (genome:str):\n",
        "    genome = genome.upper()\n",
        "    count = 0\n",
        "    historial = list()\n",
        "    for letter in genome:\n",
        "        if letter == \"C\":\n",
        "            count-=1\n",
        "            historial.append(count)\n",
        "        elif letter == \"G\":\n",
        "            count+=1\n",
        "            historial.append(count)\n",
        "        else:\n",
        "            historial.append(count)\n",
        "    return historial"
      ]
    },
    {
      "cell_type": "markdown",
      "metadata": {},
      "source": [
        "Skew diagram plot"
      ]
    },
    {
      "cell_type": "code",
      "execution_count": null,
      "metadata": {},
      "outputs": [],
      "source": [
        "import matplotlib.pyplot as plt\n",
        "genoma = open(\"data/GCF_000005845.2_ASM584v2_genomic.fna\", \"r\")\n",
        "genoma.readline()\n",
        "genoma = genoma.read()\n",
        "plt.plot(list(range(len(genoma))), skew(genoma))"
      ]
    },
    {
      "cell_type": "markdown",
      "metadata": {
        "id": "f4wYJvUO_TC8"
      },
      "source": [
        "# Testing stuff"
      ]
    },
    {
      "cell_type": "code",
      "execution_count": null,
      "metadata": {
        "colab": {
          "base_uri": "https://localhost:8080/"
        },
        "id": "uwORxXa4A6SB",
        "outputId": "bbae69af-8011-4364-eb0f-63a05cc7369f"
      },
      "outputs": [
        {
          "data": {
            "text/plain": [
              "['TG', 'AT']"
            ]
          },
          "execution_count": 27,
          "metadata": {},
          "output_type": "execute_result"
        }
      ],
      "source": [
        "texto=\"ATGATG\"\n",
        "k=2\n",
        "FrequentPattern(texto,k)"
      ]
    },
    {
      "cell_type": "code",
      "execution_count": null,
      "metadata": {
        "colab": {
          "base_uri": "https://localhost:8080/"
        },
        "id": "ZZ_X1JvR7R3i",
        "outputId": "d017d87a-f911-4e1e-967b-29e07791da54"
      },
      "outputs": [
        {
          "name": "stdout",
          "output_type": "stream",
          "text": [
            "0\n",
            "1\n",
            "2\n",
            "3\n",
            "4\n"
          ]
        }
      ],
      "source": [
        "for x in range(5):\n",
        "    print(x)"
      ]
    },
    {
      "cell_type": "code",
      "execution_count": null,
      "metadata": {
        "colab": {
          "base_uri": "https://localhost:8080/",
          "height": 35
        },
        "id": "1gH23Wks7zH2",
        "outputId": "ae864fae-757e-4010-b823-dc6289a470a2"
      },
      "outputs": [
        {
          "data": {
            "application/vnd.google.colaboratory.intrinsic+json": {
              "type": "string"
            },
            "text/plain": [
              "'epileF'"
            ]
          },
          "execution_count": 6,
          "metadata": {},
          "output_type": "execute_result"
        }
      ],
      "source": [
        "\"Felipe\"[::-1]"
      ]
    },
    {
      "cell_type": "code",
      "execution_count": null,
      "metadata": {
        "colab": {
          "base_uri": "https://localhost:8080/",
          "height": 179
        },
        "id": "FJ9ZV-xgAhwg",
        "outputId": "0adce9a6-02d6-4852-81ab-3be0593f02a2"
      },
      "outputs": [
        {
          "ename": "NameError",
          "evalue": "name 'test' is not defined",
          "output_type": "error",
          "traceback": [
            "\u001b[0;31m---------------------------------------------------------------------------\u001b[0m",
            "\u001b[0;31mNameError\u001b[0m                                 Traceback (most recent call last)",
            "\u001b[0;32m<ipython-input-1-3b4e2f384ed8>\u001b[0m in \u001b[0;36m<cell line: 1>\u001b[0;34m()\u001b[0m\n\u001b[0;32m----> 1\u001b[0;31m \u001b[0mdir\u001b[0m\u001b[0;34m(\u001b[0m\u001b[0mtest\u001b[0m\u001b[0;34m)\u001b[0m\u001b[0;34m\u001b[0m\u001b[0;34m\u001b[0m\u001b[0m\n\u001b[0m",
            "\u001b[0;31mNameError\u001b[0m: name 'test' is not defined"
          ]
        }
      ],
      "source": [
        "test = []\n",
        "dir(test)"
      ]
    }
  ],
  "metadata": {
    "colab": {
      "provenance": []
    },
    "kernelspec": {
      "display_name": "Python 3",
      "name": "python3"
    },
    "language_info": {
      "name": "python"
    }
  },
  "nbformat": 4,
  "nbformat_minor": 0
}
