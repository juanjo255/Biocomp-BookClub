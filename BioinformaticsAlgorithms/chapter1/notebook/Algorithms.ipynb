{
  "cells": [
    {
      "cell_type": "markdown",
      "metadata": {
        "id": "SS2ym369_W6J"
      },
      "source": [
        "# Initial stuff"
      ]
    },
    {
      "cell_type": "code",
      "execution_count": 1,
      "metadata": {
        "id": "9_mSza8K5EDZ"
      },
      "outputs": [],
      "source": [
        "def pattern_count(pattern, seq):\n",
        "    patt_count=0\n",
        "    patt_size=len(pattern)\n",
        "    for i in range(len(seq) + 1  - patt_size):\n",
        "        if seq[i:i+patt_size] == pattern:\n",
        "            patt_count += 1\n",
        "    return patt_count\n"
      ]
    },
    {
      "cell_type": "code",
      "execution_count": 2,
      "metadata": {
        "id": "Eugd8k_c6X4S"
      },
      "outputs": [],
      "source": [
        "def reverso(text):\n",
        "    reverso=\"\"\n",
        "    for caracter in text:\n",
        "        if caracter == \"A\":\n",
        "            reverso.append(\"T\")\n",
        "        if caracter == \"T\":\n",
        "            reverso.append(\"A\")\n",
        "        if caracter == \"C\":\n",
        "            reverso.append(\"G\")\n",
        "        if caracter == \"G\":\n",
        "            reverso.append(\"C\")\n",
        "    return reverso[::-1]\n",
        "\n",
        "def FrequentPattern(texto,k_mer):\n",
        "    frequentPat = []\n",
        "    conteo = []\n",
        "\n",
        "    for i in range(len(texto)+1-k_mer):\n",
        "        patron = texto[i:i+k_mer]\n",
        "        conteo.append(pattern_count(patron,texto))\n",
        "    #    print(patron,conteo)\n",
        "    # max = conteo.max()\n",
        "    max_val = max(conteo)\n",
        "    for i in range(len(texto)+1-k_mer):\n",
        "    #    print(texto[i:i+k_mer], conteo[i])\n",
        "        if conteo[i] == max_val:\n",
        "            frequentPat.append(texto[i:i+k_mer])\n",
        "    #print(frequentPat)\n",
        "    # Remove duplicates\n",
        "    frequentPat = list(set(frequentPat))\n",
        "\n",
        "    return frequentPat\n"
      ]
    },
    {
      "cell_type": "markdown",
      "metadata": {
        "id": "Tduwuyx9_PYs"
      },
      "source": [
        "# Problem 1E"
      ]
    },
    {
      "cell_type": "code",
      "execution_count": 3,
      "metadata": {
        "id": "2CVzgQlK_SuP"
      },
      "outputs": [],
      "source": [
        "def clump_finding_algorithm(k,L,t,genome):\n",
        "    patron_guardado=[]\n",
        "    for i in range(0,len(genome)+1-L):\n",
        "        ventana = genome[i:i+L]\n",
        "        for x in range(0,len(ventana)+1-k):\n",
        "            patron = ventana[x:x+k]\n",
        "            conteo_patron_en_ventana = pattern_count(patron, ventana)\n",
        "            if conteo_patron_en_ventana >= t:\n",
        "                # Guardo el patron\n",
        "                patron_guardado.append(patron)\n",
        "    # Eliminar duplicados\n",
        "    patron_guardado = list(set(patron_guardado))\n",
        "    return patron_guardado\n"
      ]
    },
    {
      "cell_type": "code",
      "execution_count": 4,
      "metadata": {
        "colab": {
          "base_uri": "https://localhost:8080/"
        },
        "id": "nT5aNPs6JIIq",
        "outputId": "f1856986-f908-4d5b-bdd5-964e4f8e0f58"
      },
      "outputs": [
        {
          "data": {
            "text/plain": [
              "['AATGT', 'GAAGA', 'CGACA']"
            ]
          },
          "execution_count": 4,
          "metadata": {},
          "output_type": "execute_result"
        }
      ],
      "source": [
        "genome = \"CGGACTCGACAGATGTGAAGAAATGTGAAGACTGAGTGAAGAGAAGAGGAAACACGACACGACATTGCGACATAATGTACGAATGTAATGTGCCTATGGC\"\n",
        "k=5\n",
        "L=75\n",
        "t=4\n",
        "clump_finding_algorithm(5,75,4,genome)\n"
      ]
    },
    {
      "cell_type": "code",
      "execution_count": 5,
      "metadata": {
        "colab": {
          "base_uri": "https://localhost:8080/"
        },
        "id": "Ot9-1b8oBDeZ",
        "outputId": "ccc4bde1-618e-4df7-f13e-2c11eeb078cb"
      },
      "outputs": [
        {
          "name": "stdout",
          "output_type": "stream",
          "text": [
            "[1, 'felipe', 'paula'] 1 felipe paula\n"
          ]
        }
      ],
      "source": [
        "test = [1,\"felipe\",\"paula\"]\n",
        "\n",
        "print(test,*test)"
      ]
    },
    {
      "cell_type": "markdown",
      "metadata": {},
      "source": [
        "# Skew diagram problem"
      ]
    },
    {
      "cell_type": "code",
      "execution_count": 6,
      "metadata": {},
      "outputs": [],
      "source": [
        "def skew (genome:str):\n",
        "    genome = genome.upper()\n",
        "    count = 0\n",
        "    historial = list()\n",
        "    for letter in genome:\n",
        "        if letter == \"C\":\n",
        "            count-=1\n",
        "            historial.append(count)\n",
        "        elif letter == \"G\":\n",
        "            count+=1\n",
        "            historial.append(count)\n",
        "        else:\n",
        "            historial.append(count)\n",
        "    return historial"
      ]
    },
    {
      "cell_type": "markdown",
      "metadata": {},
      "source": [
        "Skew diagram plot"
      ]
    },
    {
      "cell_type": "code",
      "execution_count": 7,
      "metadata": {},
      "outputs": [
        {
          "data": {
            "text/plain": [
              "[<matplotlib.lines.Line2D at 0x1763642c0>]"
            ]
          },
          "execution_count": 7,
          "metadata": {},
          "output_type": "execute_result"
        },
        {
          "data": {
            "image/png": "[encoded data removed]",
            "text/plain": [
              "<Figure size 640x480 with 1 Axes>"
            ]
          },
          "metadata": {},
          "output_type": "display_data"
        }
      ],
      "source": [
        "import matplotlib.pyplot as plt\n",
        "genoma = open(\"data/GCF_000005845.2_ASM584v2_genomic.fna\", \"r\")\n",
        "genoma.readline()\n",
        "genoma = genoma.read()\n",
        "plt.plot(list(range(len(genoma))), skew(genoma))"
      ]
    },
    {
      "cell_type": "markdown",
      "metadata": {},
      "source": [
        "Pattern matching with mismatches\n",
        "\n",
        "APPROXIMATEPATTERNCOUNT(Text, Pattern, d) count 0\n",
        "    for i 0 to |Text| \u0000 |Pattern|\n",
        "        Pattern’ Text(i, |Pattern|)\n",
        "        if HAMMINGDISTANCE(Pattern, Pattern’)  d\n",
        "            count count + 1 \n",
        "    return count"
      ]
    },
    {
      "cell_type": "code",
      "execution_count": 14,
      "metadata": {},
      "outputs": [
        {
          "name": "stdout",
          "output_type": "stream",
          "text": [
            "par de letras ('A', 'T')\n",
            "nucl iguales:  0 A 1 T\n",
            "par de letras ('T', 'T')\n",
            "nucl iguales:  0 T 1 T\n",
            "par de letras ('G', 'G')\n",
            "nucl iguales:  0 G 1 G\n"
          ]
        }
      ],
      "source": [
        "def approximate_pattern_count(pattern, seq, d):\n",
        "    patt_count=0\n",
        "    patt_size=len(pattern)\n",
        "    for i in range(len(seq) + 1  - patt_size):\n",
        "        if seq[i:i+patt_size] == pattern:\n",
        "            patt_count += 1\n",
        "    return patt_count\n",
        "\n",
        "def hamming_distance(seq1,seq2):\n",
        "    distance = 0\n",
        "    for i,v in zip(seq1,seq2):\n",
        "        print (\"par de letras\",i)\n",
        "        print(\"nucl iguales: \",\"0\",i[0],\"1\" ,i[1])\n",
        "        if i != v:\n",
        "            distance+=1\n",
        "\n",
        "# cambios\n",
        "\n",
        "hamming_distance(\"ATG\", \"TTG\")"
      ]
    },
    {
      "cell_type": "markdown",
      "metadata": {
        "id": "f4wYJvUO_TC8"
      },
      "source": [
        "# Testing stuff"
      ]
    },
    {
      "cell_type": "code",
      "execution_count": 8,
      "metadata": {
        "colab": {
          "base_uri": "https://localhost:8080/"
        },
        "id": "uwORxXa4A6SB",
        "outputId": "bbae69af-8011-4364-eb0f-63a05cc7369f"
      },
      "outputs": [
        {
          "data": {
            "text/plain": [
              "['TG', 'AT']"
            ]
          },
          "execution_count": 8,
          "metadata": {},
          "output_type": "execute_result"
        }
      ],
      "source": [
        "texto=\"ATGATG\"\n",
        "k=2\n",
        "FrequentPattern(texto,k)"
      ]
    },
    {
      "cell_type": "code",
      "execution_count": 9,
      "metadata": {
        "colab": {
          "base_uri": "https://localhost:8080/"
        },
        "id": "ZZ_X1JvR7R3i",
        "outputId": "d017d87a-f911-4e1e-967b-29e07791da54"
      },
      "outputs": [
        {
          "name": "stdout",
          "output_type": "stream",
          "text": [
            "0\n",
            "1\n",
            "2\n",
            "3\n",
            "4\n"
          ]
        }
      ],
      "source": [
        "for x in range(5):\n",
        "    print(x)"
      ]
    },
    {
      "cell_type": "code",
      "execution_count": 10,
      "metadata": {
        "colab": {
          "base_uri": "https://localhost:8080/",
          "height": 35
        },
        "id": "1gH23Wks7zH2",
        "outputId": "ae864fae-757e-4010-b823-dc6289a470a2"
      },
      "outputs": [
        {
          "data": {
            "text/plain": [
              "'epileF'"
            ]
          },
          "execution_count": 10,
          "metadata": {},
          "output_type": "execute_result"
        }
      ],
      "source": [
        "\"Felipe\"[::-1]"
      ]
    },
    {
      "cell_type": "code",
      "execution_count": 11,
      "metadata": {
        "colab": {
          "base_uri": "https://localhost:8080/",
          "height": 179
        },
        "id": "FJ9ZV-xgAhwg",
        "outputId": "0adce9a6-02d6-4852-81ab-3be0593f02a2"
      },
      "outputs": [
        {
          "data": {
            "text/plain": [
              "['__add__',\n",
              " '__class__',\n",
              " '__class_getitem__',\n",
              " '__contains__',\n",
              " '__delattr__',\n",
              " '__delitem__',\n",
              " '__dir__',\n",
              " '__doc__',\n",
              " '__eq__',\n",
              " '__format__',\n",
              " '__ge__',\n",
              " '__getattribute__',\n",
              " '__getitem__',\n",
              " '__getstate__',\n",
              " '__gt__',\n",
              " '__hash__',\n",
              " '__iadd__',\n",
              " '__imul__',\n",
              " '__init__',\n",
              " '__init_subclass__',\n",
              " '__iter__',\n",
              " '__le__',\n",
              " '__len__',\n",
              " '__lt__',\n",
              " '__mul__',\n",
              " '__ne__',\n",
              " '__new__',\n",
              " '__reduce__',\n",
              " '__reduce_ex__',\n",
              " '__repr__',\n",
              " '__reversed__',\n",
              " '__rmul__',\n",
              " '__setattr__',\n",
              " '__setitem__',\n",
              " '__sizeof__',\n",
              " '__str__',\n",
              " '__subclasshook__',\n",
              " 'append',\n",
              " 'clear',\n",
              " 'copy',\n",
              " 'count',\n",
              " 'extend',\n",
              " 'index',\n",
              " 'insert',\n",
              " 'pop',\n",
              " 'remove',\n",
              " 'reverse',\n",
              " 'sort']"
            ]
          },
          "execution_count": 11,
          "metadata": {},
          "output_type": "execute_result"
        }
      ],
      "source": [
        "test = []\n",
        "dir(test)"
      ]
    }
  ],
  "metadata": {
    "colab": {
      "provenance": []
    },
    "kernelspec": {
      "display_name": "Python 3",
      "name": "python3"
    },
    "language_info": {
      "codemirror_mode": {
        "name": "ipython",
        "version": 3
      },
      "file_extension": ".py",
      "mimetype": "text/x-python",
      "name": "python",
      "nbconvert_exporter": "python",
      "pygments_lexer": "ipython3",
      "version": "3.12.2"
    }
  },
  "nbformat": 4,
  "nbformat_minor": 0
}
